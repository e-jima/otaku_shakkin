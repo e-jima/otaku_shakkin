{
 "cells": [
  {
   "cell_type": "code",
   "execution_count": 1,
   "metadata": {
    "collapsed": true
   },
   "outputs": [],
   "source": [
    "import time\n",
    "import datetime\n",
    "import json\n",
    "import traceback\n",
    "import importlib\n",
    "\n",
    "from functions import *\n",
    "from twitter import *\n",
    "from Mayu import *\n",
    "\n",
    "    \n",
    "def roop():\n",
    "    followers = get_followers()\n",
    "    time.sleep(10)\n",
    "    timeline = get_timeline(followers)\n",
    "    if timeline.status_code != 200:\n",
    "        with open(\"../error.log\", \"r\") as f:\n",
    "            l = f.readlines()\n",
    "            l = str(datetime.datetime.now()) + \"\\n==========\\n\\n\" + \"status code != 200\" +\"\\n==========\\n\\n\\n\\n\" + \"\".join(l)\n",
    "        with open(\"../error.log\", \"w\") as f:\n",
    "            print(l, file=f)\n",
    "            \n",
    "        \n",
    "        return True\n",
    "\n",
    "    \n",
    "    t = datetime.datetime.now()\n",
    "\n",
    "    for line in timeline.iter_lines():\n",
    "        try:\n",
    "            if (datetime.datetime.now() - t).seconds > 900:\n",
    "                # breakする\n",
    "                return True\n",
    "\n",
    "            stream = line.decode(\"utf-8\")\n",
    "            raw_data = json.loads(stream)\n",
    "\n",
    "            mayu = Mayu(raw_data)\n",
    "            mayu.run()\n",
    "\n",
    "        except:\n",
    "            # なんかしらんエラー\n",
    "            pass"
   ]
  },
  {
   "cell_type": "code",
   "execution_count": null,
   "metadata": {
    "collapsed": false
   },
   "outputs": [
    {
     "name": "stdout",
     "output_type": "stream",
     "text": [
      "start at 2018-06-22 10:28:15.166759\n"
     ]
    }
   ],
   "source": [
    "print(\"start at\", datetime.datetime.now())\n",
    "\n",
    "while True:\n",
    "        try:\n",
    "            roop()\n",
    "            \n",
    "        except:\n",
    "            with open(\"../error.log\", \"r\") as f:\n",
    "                l = f.readlines()\n",
    "                l = str(datetime.datetime.now()) + \"\\n==========\\n\\n\" + str(traceback.format_exc()) +\"\\n==========\\n\\n\\n\\n\" + \"\".join(l)\n",
    "            with open(\"../error.log\", \"w\") as f:\n",
    "                print(l, file=f)"
   ]
  }
 ],
 "metadata": {
  "kernelspec": {
   "display_name": "Python 3",
   "language": "python",
   "name": "python3"
  },
  "language_info": {
   "codemirror_mode": {
    "name": "ipython",
    "version": 3
   },
   "file_extension": ".py",
   "mimetype": "text/x-python",
   "name": "python",
   "nbconvert_exporter": "python",
   "pygments_lexer": "ipython3",
   "version": "3.5.0"
  }
 },
 "nbformat": 4,
 "nbformat_minor": 2
}
